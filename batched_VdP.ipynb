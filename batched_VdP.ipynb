{
 "cells": [
  {
   "cell_type": "code",
   "execution_count": 1,
   "metadata": {},
   "outputs": [],
   "source": [
    "import time\n",
    "\n",
    "import jax\n",
    "import jax.numpy as jnp\n",
    "import diffrax\n",
    "\n",
    "from rodas5 import Rodas5"
   ]
  },
  {
   "cell_type": "code",
   "execution_count": 2,
   "metadata": {},
   "outputs": [],
   "source": [
    "mu = 100.0\n",
    "\n",
    "\n",
    "\n",
    "def f(t, y, args):\n",
    "    return jnp.array([\n",
    "        y[1], \n",
    "        mu * args[0]**2 * (t + 1) * (1 - y[0]**2)*y[1] - y[0]])\n",
    "\n"
   ]
  },
  {
   "cell_type": "code",
   "execution_count": 3,
   "metadata": {},
   "outputs": [],
   "source": [
    "t0, t1 = 0.0, 30*mu\n",
    "y0 = jnp.array([2., 0.])\n",
    "\n",
    "maxsteps = 5000\n",
    "\n",
    "N = 10000\n",
    "\n",
    "stepsize = t1/N\n",
    "saveat = diffrax.SaveAt(ts=list(jnp.arange(t0, t1, stepsize)))\n",
    "\n",
    "integrator = Rodas5()\n"
   ]
  },
  {
   "cell_type": "code",
   "execution_count": 4,
   "metadata": {},
   "outputs": [
    {
     "name": "stderr",
     "output_type": "stream",
     "text": [
      "/home/tobias/Projects/integrators/.venv/lib/python3.12/site-packages/jax/_src/core.py:678: FutureWarning: unhashable type: <class 'jax._src.interpreters.partial_eval.DynamicJaxprTracer'>. Attempting to hash a tracer will lead to an error in a future JAX release.\n",
      "  warnings.warn(\n",
      "/home/tobias/Projects/integrators/.venv/lib/python3.12/site-packages/jax/_src/core.py:678: FutureWarning: unhashable type: <class 'jax._src.interpreters.partial_eval.DynamicJaxprTracer'>. Attempting to hash a tracer will lead to an error in a future JAX release.\n",
      "  warnings.warn(\n",
      "/home/tobias/Projects/integrators/.venv/lib/python3.12/site-packages/jax/_src/core.py:678: FutureWarning: unhashable type: <class 'jax._src.interpreters.partial_eval.DynamicJaxprTracer'>. Attempting to hash a tracer will lead to an error in a future JAX release.\n",
      "  warnings.warn(\n"
     ]
    },
    {
     "name": "stdout",
     "output_type": "stream",
     "text": [
      "time:  2.544614791870117\n"
     ]
    }
   ],
   "source": [
    "\n",
    "\n",
    "rtol = 1e-6\n",
    "atol = 1e-6\n",
    "\n",
    "n_total = 512\n",
    "\n",
    "n_batch = 128\n",
    "\n",
    "arg_total = jnp.arange(1, n_total + 1).reshape((n_total, 1))\n",
    "# y0_total = jnp.array([[k/n_total, 0.0] for k in range(n_total)]).astype(float)\n",
    "y0_total = jnp.array([[2.0 + 0.5*(0.5 - k/n_total), 0.0] for k in range(n_total)]).astype(float)\n",
    "\n",
    "stepsize_controller = diffrax.PIDController(rtol=rtol, atol=atol)\n",
    "term = diffrax.ODETerm(f)\n",
    "\n",
    "\n",
    "def solve(y, args):\n",
    "    return diffrax.diffeqsolve(term, \n",
    "                    integrator, \n",
    "                    t0=t0, \n",
    "                    t1=t1, \n",
    "                    dt0=stepsize, \n",
    "                    y0=y, \n",
    "                    saveat=saveat, \n",
    "                    stepsize_controller=stepsize_controller, \n",
    "                    max_steps=maxsteps,\n",
    "                    args=args)\n",
    "\n",
    "\n",
    "\n",
    "solve_vmap = jax.vmap(solve, (0, 0))\n",
    "start = time.time()\n",
    "solutions_vmap = solve_vmap(y0_total, arg_total)\n",
    "end = time.time()\n",
    "\n",
    "print(\"time: \", end-start)\n"
   ]
  },
  {
   "cell_type": "code",
   "execution_count": 5,
   "metadata": {},
   "outputs": [
    {
     "name": "stdout",
     "output_type": "stream",
     "text": [
      "1.48 s ± 4.94 ms per loop (mean ± std. dev. of 7 runs, 1 loop each)\n"
     ]
    }
   ],
   "source": [
    "\n",
    "    \n",
    "%timeit solve_vmap(y0_total, arg_total)\n"
   ]
  },
  {
   "cell_type": "code",
   "execution_count": 6,
   "metadata": {},
   "outputs": [
    {
     "name": "stderr",
     "output_type": "stream",
     "text": [
      "/home/tobias/Projects/integrators/.venv/lib/python3.12/site-packages/jax/_src/core.py:678: FutureWarning: unhashable type: <class 'jax._src.interpreters.partial_eval.DynamicJaxprTracer'>. Attempting to hash a tracer will lead to an error in a future JAX release.\n",
      "  warnings.warn(\n",
      "/home/tobias/Projects/integrators/.venv/lib/python3.12/site-packages/jax/_src/core.py:678: FutureWarning: unhashable type: <class 'jax._src.interpreters.partial_eval.DynamicJaxprTracer'>. Attempting to hash a tracer will lead to an error in a future JAX release.\n",
      "  warnings.warn(\n",
      "/home/tobias/Projects/integrators/.venv/lib/python3.12/site-packages/jax/_src/core.py:678: FutureWarning: unhashable type: <class 'jax._src.interpreters.partial_eval.DynamicJaxprTracer'>. Attempting to hash a tracer will lead to an error in a future JAX release.\n",
      "  warnings.warn(\n"
     ]
    },
    {
     "name": "stdout",
     "output_type": "stream",
     "text": [
      "time:  1.2677524089813232\n"
     ]
    }
   ],
   "source": [
    "from rodas5batched import Rodas5Batched\n",
    "\n",
    "integrator_batched = Rodas5Batched()\n",
    "\n",
    "f_batched = jax.vmap(f, (None, 0 , 0))\n",
    "term_batched = diffrax.ODETerm(f_batched)\n",
    "\n",
    "y0_batched = jnp.array([y0_total[k:k+n_batch] for k in range(0,n_total,n_batch)])\n",
    "arg_batched = jnp.array([arg_total[k:k+n_batch] for k in range(0,n_total,n_batch)])\n",
    "\n",
    "def solve_batch(y, args):\n",
    "    return diffrax.diffeqsolve(term_batched, \n",
    "                    integrator_batched, \n",
    "                    t0=t0, \n",
    "                    t1=t1, \n",
    "                    dt0=stepsize, \n",
    "                    y0=y, \n",
    "                    saveat=saveat, \n",
    "                    stepsize_controller=stepsize_controller, \n",
    "                    max_steps=maxsteps,\n",
    "                    args=args)\n",
    "\n",
    "solve_batch_vmap = jax.vmap(solve_batch, (0,0))\n",
    "\n",
    "start = time.time()\n",
    "solutions_batch = solve_batch_vmap(y0_batched, arg_batched)\n",
    "end = time.time()\n",
    "\n",
    "print(\"time: \", end-start)\n"
   ]
  },
  {
   "cell_type": "code",
   "execution_count": 7,
   "metadata": {},
   "outputs": [
    {
     "name": "stdout",
     "output_type": "stream",
     "text": [
      "323 ms ± 269 µs per loop (mean ± std. dev. of 7 runs, 1 loop each)\n"
     ]
    }
   ],
   "source": [
    "    \n",
    "%timeit solve_batch_vmap(y0_batched, arg_batched)"
   ]
  },
  {
   "cell_type": "code",
   "execution_count": 8,
   "metadata": {},
   "outputs": [
    {
     "data": {
      "text/plain": [
       "((4, 10000, 128, 2), (4, 10000), (512, 10000, 2))"
      ]
     },
     "execution_count": 8,
     "metadata": {},
     "output_type": "execute_result"
    }
   ],
   "source": [
    "solutions_batch.ys.shape, solutions_batch.ts.shape, solutions_vmap.ys.shape"
   ]
  },
  {
   "cell_type": "code",
   "execution_count": 9,
   "metadata": {},
   "outputs": [
    {
     "data": {
      "text/plain": [
       "(512, 10000, 2)"
      ]
     },
     "execution_count": 9,
     "metadata": {},
     "output_type": "execute_result"
    }
   ],
   "source": [
    "batch_ys =  []\n",
    "for k in range(n_total // n_batch):\n",
    "    for j in range(n_batch):\n",
    "        intermediate = solutions_batch.ys[k, :, j, :].squeeze()\n",
    "        batch_ys.append(solutions_batch.ys[k, :, j, :].squeeze())\n",
    "\n",
    "batch_ys = jnp.array(batch_ys)\n",
    "batch_ys.shape"
   ]
  },
  {
   "cell_type": "code",
   "execution_count": null,
   "metadata": {},
   "outputs": [],
   "source": []
  },
  {
   "cell_type": "code",
   "execution_count": null,
   "metadata": {},
   "outputs": [],
   "source": []
  },
  {
   "cell_type": "code",
   "execution_count": 10,
   "metadata": {},
   "outputs": [
    {
     "data": {
      "image/png": "[encoded data removed]",
      "text/plain": [
       "<Figure size 640x480 with 2 Axes>"
      ]
     },
     "metadata": {},
     "output_type": "display_data"
    }
   ],
   "source": [
    "import matplotlib.pyplot as plt\n",
    "\n",
    "fig, (ax1, ax2) = plt.subplots(1, 2)\n",
    "\n",
    "for solution in batch_ys:\n",
    "    ax1.plot(solution[:,0], solution[:,1])\n",
    "\n",
    "for solution in solutions_vmap.ys:\n",
    "    ax2.plot(solution[:,0], solution[:,1])"
   ]
  },
  {
   "cell_type": "code",
   "execution_count": 11,
   "metadata": {},
   "outputs": [],
   "source": [
    "for index, (sol_batch, sol_vmap) in enumerate(zip(batch_ys, solutions_vmap.ys)):\n",
    "    norm = jnp.linalg.norm(sol_batch[-1] - sol_vmap[-1])\n",
    "\n",
    "    if norm > 10e-5:\n",
    "        print(index, sol_batch[-1], sol_vmap[-1])"
   ]
  }
 ],
 "metadata": {
  "kernelspec": {
   "display_name": ".venv",
   "language": "python",
   "name": "python3"
  },
  "language_info": {
   "codemirror_mode": {
    "name": "ipython",
    "version": 3
   },
   "file_extension": ".py",
   "mimetype": "text/x-python",
   "name": "python",
   "nbconvert_exporter": "python",
   "pygments_lexer": "ipython3",
   "version": "3.12.3"
  }
 },
 "nbformat": 4,
 "nbformat_minor": 2
}
